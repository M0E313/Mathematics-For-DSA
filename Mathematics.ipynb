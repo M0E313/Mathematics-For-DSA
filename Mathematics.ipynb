{
 "cells": [
  {
   "cell_type": "code",
   "execution_count": 39,
   "id": "2becb942",
   "metadata": {},
   "outputs": [
    {
     "name": "stdout",
     "output_type": "stream",
     "text": [
      "False\n",
      "False\n",
      "[[-23.040000000000003], [16.8]]\n"
     ]
    }
   ],
   "source": [
    "def grad (x,y):\n",
    "    \n",
    "    #we took into considaration that the original function is f(x,y)= x^2*y - x*y^2 and therefore the Df = R^2\n",
    "    \n",
    "    if (type(x)==str or type(y)==str or type(x)==bool or type(y)==bool):\n",
    "        return False\n",
    "    \n",
    "    else:\n",
    "        dfx=2*y*x-y**2      #dfx is the partial derivaive of f(x,y) with respect to x\n",
    "        dfy=x**2-2*x*y      #dfy is the partial derivaive of f(x,y) with respect to y\n",
    "        return [[dfx],[dfy]]\n",
    "    \n",
    "\n",
    "    \n",
    "    \n",
    "#test examples\n",
    "\n",
    "print(grad(False,1))\n",
    "\n",
    "print(grad(\"a\",1))\n",
    "\n",
    "print(grad(-2,3.2))\n"
   ]
  },
  {
   "cell_type": "code",
   "execution_count": null,
   "id": "77deb15a",
   "metadata": {},
   "outputs": [],
   "source": []
  }
 ],
 "metadata": {
  "kernelspec": {
   "display_name": "Python 3",
   "language": "python",
   "name": "python3"
  },
  "language_info": {
   "codemirror_mode": {
    "name": "ipython",
    "version": 3
   },
   "file_extension": ".py",
   "mimetype": "text/x-python",
   "name": "python",
   "nbconvert_exporter": "python",
   "pygments_lexer": "ipython3",
   "version": "3.8.8"
  }
 },
 "nbformat": 4,
 "nbformat_minor": 5
}
